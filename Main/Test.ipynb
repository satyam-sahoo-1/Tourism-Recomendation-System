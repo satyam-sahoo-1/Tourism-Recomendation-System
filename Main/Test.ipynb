{
 "cells": [
  {
   "cell_type": "code",
   "execution_count": 4,
   "metadata": {},
   "outputs": [],
   "source": [
    "import pandas as pd\n",
    "import random\n",
    "import numpy\n",
    "# from scipy import spatial"
   ]
  },
  {
   "cell_type": "code",
   "execution_count": 5,
   "metadata": {},
   "outputs": [
    {
     "data": {
      "text/html": [
       "<div>\n",
       "<style scoped>\n",
       "    .dataframe tbody tr th:only-of-type {\n",
       "        vertical-align: middle;\n",
       "    }\n",
       "\n",
       "    .dataframe tbody tr th {\n",
       "        vertical-align: top;\n",
       "    }\n",
       "\n",
       "    .dataframe thead th {\n",
       "        text-align: right;\n",
       "    }\n",
       "</style>\n",
       "<table border=\"1\" class=\"dataframe\">\n",
       "  <thead>\n",
       "    <tr style=\"text-align: right;\">\n",
       "      <th></th>\n",
       "      <th>Location</th>\n",
       "      <th>types</th>\n",
       "    </tr>\n",
       "  </thead>\n",
       "  <tbody>\n",
       "    <tr>\n",
       "      <th>0</th>\n",
       "      <td>Odisha</td>\n",
       "      <td>Motivational</td>\n",
       "    </tr>\n",
       "    <tr>\n",
       "      <th>1</th>\n",
       "      <td>Maharastra</td>\n",
       "      <td>Sports</td>\n",
       "    </tr>\n",
       "    <tr>\n",
       "      <th>2</th>\n",
       "      <td>Assam</td>\n",
       "      <td>Funny</td>\n",
       "    </tr>\n",
       "    <tr>\n",
       "      <th>3</th>\n",
       "      <td>Rajastrhan</td>\n",
       "      <td>Music</td>\n",
       "    </tr>\n",
       "    <tr>\n",
       "      <th>4</th>\n",
       "      <td>Rajastrhan</td>\n",
       "      <td>Food</td>\n",
       "    </tr>\n",
       "    <tr>\n",
       "      <th>...</th>\n",
       "      <td>...</td>\n",
       "      <td>...</td>\n",
       "    </tr>\n",
       "    <tr>\n",
       "      <th>995</th>\n",
       "      <td>Assam</td>\n",
       "      <td>Dance</td>\n",
       "    </tr>\n",
       "    <tr>\n",
       "      <th>996</th>\n",
       "      <td>West-Bengal</td>\n",
       "      <td>Motivational</td>\n",
       "    </tr>\n",
       "    <tr>\n",
       "      <th>997</th>\n",
       "      <td>West-Bengal</td>\n",
       "      <td>Travel</td>\n",
       "    </tr>\n",
       "    <tr>\n",
       "      <th>998</th>\n",
       "      <td>Odisha</td>\n",
       "      <td>Travel</td>\n",
       "    </tr>\n",
       "    <tr>\n",
       "      <th>999</th>\n",
       "      <td>Assam</td>\n",
       "      <td>News</td>\n",
       "    </tr>\n",
       "  </tbody>\n",
       "</table>\n",
       "<p>1000 rows × 2 columns</p>\n",
       "</div>"
      ],
      "text/plain": [
       "        Location         types\n",
       "0         Odisha  Motivational\n",
       "1     Maharastra        Sports\n",
       "2          Assam         Funny\n",
       "3     Rajastrhan         Music\n",
       "4     Rajastrhan          Food\n",
       "..           ...           ...\n",
       "995        Assam         Dance\n",
       "996  West-Bengal  Motivational\n",
       "997  West-Bengal        Travel\n",
       "998       Odisha        Travel\n",
       "999        Assam          News\n",
       "\n",
       "[1000 rows x 2 columns]"
      ]
     },
     "execution_count": 5,
     "metadata": {},
     "output_type": "execute_result"
    }
   ],
   "source": [
    "l_type=['Funny','Travel','Food','Fashion','News','Funny','Sports','Motivational','Music','Dance' ]\n",
    "l_location=['Odisha', 'Delhi', 'Maharastra', 'Assam', 'Rajastrhan', 'West-Bengal']\n",
    "types = [random.choice(l_type) for i in range(1000)]\n",
    "location=[random.choice(l_location) for i in range(1000)]\n",
    "data = {\n",
    "    \"Location\": location,\n",
    "    \"types\":types\n",
    "}\n",
    "df = pd.DataFrame(data)\n",
    "df.to_csv('ReelType.csv', mode='w')\n",
    "df"
   ]
  },
  {
   "cell_type": "code",
   "execution_count": 6,
   "metadata": {},
   "outputs": [
    {
     "name": "stdout",
     "output_type": "stream",
     "text": [
      "['Rajastrhan', 'West-Bengal', 'Rajastrhan', 'West-Bengal', 'Assam', 'West-Bengal', 'West-Bengal', 'Maharastra', 'Odisha', 'Maharastra', 'Delhi', 'Odisha', 'Maharastra', 'West-Bengal', 'West-Bengal', 'Odisha', 'Odisha', 'West-Bengal', 'Rajastrhan', 'West-Bengal', 'Delhi', 'Rajastrhan', 'West-Bengal', 'Odisha', 'Odisha', 'Odisha', 'Odisha', 'Odisha', 'West-Bengal', 'Delhi', 'Assam', 'Rajastrhan', 'West-Bengal', 'Assam', 'Delhi', 'Maharastra', 'Maharastra', 'Delhi', 'Maharastra', 'West-Bengal', 'Rajastrhan', 'Maharastra', 'Assam', 'Assam', 'Maharastra', 'Maharastra', 'Delhi', 'West-Bengal', 'Rajastrhan', 'Odisha', 'Rajastrhan', 'Maharastra', 'Rajastrhan', 'Delhi', 'Rajastrhan', 'Odisha', 'Delhi', 'Rajastrhan', 'Rajastrhan', 'Delhi', 'Maharastra', 'Assam', 'West-Bengal', 'West-Bengal', 'Odisha', 'West-Bengal', 'Delhi', 'Odisha', 'Maharastra', 'Assam', 'Assam', 'West-Bengal', 'Delhi', 'Odisha', 'West-Bengal', 'West-Bengal', 'West-Bengal', 'Odisha']\n"
     ]
    }
   ],
   "source": [
    "df_new = df[df['types'] == 'Travel']\n",
    "df_new\n",
    "l_travel = df_new['Location'].tolist()\n",
    "df_new.groupby('Location').size()\n",
    "print(l_travel)"
   ]
  },
  {
   "cell_type": "code",
   "execution_count": 7,
   "metadata": {},
   "outputs": [
    {
     "ename": "NameError",
     "evalue": "name 'cosine_similarity' is not defined",
     "output_type": "error",
     "traceback": [
      "\u001b[1;31m---------------------------------------------------------------------------\u001b[0m",
      "\u001b[1;31mNameError\u001b[0m                                 Traceback (most recent call last)",
      "\u001b[1;32mc:\\SATYAM\\SEMESTER-6\\SNA (Social Network Ananylis)\\Project\\Main\\Test.ipynb Cell 4\u001b[0m in \u001b[0;36m<cell line: 31>\u001b[1;34m()\u001b[0m\n\u001b[0;32m     <a href='vscode-notebook-cell:/c%3A/SATYAM/SEMESTER-6/SNA%20%28Social%20Network%20Ananylis%29/Project/Main/Test.ipynb#W3sZmlsZQ%3D%3D?line=27'>28</a>\u001b[0m   data\u001b[39m.\u001b[39msort_values(by\u001b[39m=\u001b[39m[\u001b[39m'\u001b[39m\u001b[39msimilarity_factor\u001b[39m\u001b[39m'\u001b[39m,\u001b[39m'\u001b[39m\u001b[39mrating\u001b[39m\u001b[39m'\u001b[39m],ascending\u001b[39m=\u001b[39m[\u001b[39mFalse\u001b[39;00m, \u001b[39mFalse\u001b[39;00m],inplace\u001b[39m=\u001b[39m\u001b[39mTrue\u001b[39;00m)\n\u001b[0;32m     <a href='vscode-notebook-cell:/c%3A/SATYAM/SEMESTER-6/SNA%20%28Social%20Network%20Ananylis%29/Project/Main/Test.ipynb#W3sZmlsZQ%3D%3D?line=28'>29</a>\u001b[0m   display(data[[\u001b[39m'\u001b[39m\u001b[39mStates\u001b[39m\u001b[39m'\u001b[39m]])\n\u001b[1;32m---> <a href='vscode-notebook-cell:/c%3A/SATYAM/SEMESTER-6/SNA%20%28Social%20Network%20Ananylis%29/Project/Main/Test.ipynb#W3sZmlsZQ%3D%3D?line=30'>31</a>\u001b[0m recommend_place(place)\n",
      "\u001b[1;32mc:\\SATYAM\\SEMESTER-6\\SNA (Social Network Ananylis)\\Project\\Main\\Test.ipynb Cell 4\u001b[0m in \u001b[0;36mrecommend_place\u001b[1;34m(place, data)\u001b[0m\n\u001b[0;32m     <a href='vscode-notebook-cell:/c%3A/SATYAM/SEMESTER-6/SNA%20%28Social%20Network%20Ananylis%29/Project/Main/Test.ipynb#W3sZmlsZQ%3D%3D?line=22'>23</a>\u001b[0m     \u001b[39mprint\u001b[39m(place)\n\u001b[0;32m     <a href='vscode-notebook-cell:/c%3A/SATYAM/SEMESTER-6/SNA%20%28Social%20Network%20Ananylis%29/Project/Main/Test.ipynb#W3sZmlsZQ%3D%3D?line=23'>24</a>\u001b[0m   \u001b[39mreturn\u001b[39;00m\n\u001b[1;32m---> <a href='vscode-notebook-cell:/c%3A/SATYAM/SEMESTER-6/SNA%20%28Social%20Network%20Ananylis%29/Project/Main/Test.ipynb#W3sZmlsZQ%3D%3D?line=25'>26</a>\u001b[0m data[\u001b[39m'\u001b[39m\u001b[39msimilarity_factor\u001b[39m\u001b[39m'\u001b[39m]\u001b[39m=\u001b[39m cosine_similarity(place, data)\n\u001b[0;32m     <a href='vscode-notebook-cell:/c%3A/SATYAM/SEMESTER-6/SNA%20%28Social%20Network%20Ananylis%29/Project/Main/Test.ipynb#W3sZmlsZQ%3D%3D?line=27'>28</a>\u001b[0m data\u001b[39m.\u001b[39msort_values(by\u001b[39m=\u001b[39m[\u001b[39m'\u001b[39m\u001b[39msimilarity_factor\u001b[39m\u001b[39m'\u001b[39m,\u001b[39m'\u001b[39m\u001b[39mrating\u001b[39m\u001b[39m'\u001b[39m],ascending\u001b[39m=\u001b[39m[\u001b[39mFalse\u001b[39;00m, \u001b[39mFalse\u001b[39;00m],inplace\u001b[39m=\u001b[39m\u001b[39mTrue\u001b[39;00m)\n\u001b[0;32m     <a href='vscode-notebook-cell:/c%3A/SATYAM/SEMESTER-6/SNA%20%28Social%20Network%20Ananylis%29/Project/Main/Test.ipynb#W3sZmlsZQ%3D%3D?line=28'>29</a>\u001b[0m display(data[[\u001b[39m'\u001b[39m\u001b[39mStates\u001b[39m\u001b[39m'\u001b[39m]])\n",
      "\u001b[1;31mNameError\u001b[0m: name 'cosine_similarity' is not defined"
     ]
    }
   ],
   "source": [
    "# Load the data\n",
    "tourist_data = pd.read_csv('TouristSpots.csv')\n",
    "place = input('enter' )\n",
    "# Define the user preferences\n",
    "d = random.choice(l_travel)\n",
    "destination = d\n",
    "duration = '5 days'\n",
    "budget = 50000\n",
    "\n",
    "# Filter the tourist data based on the destination and preferred activities\n",
    "filtered_data = tourist_data[(tourist_data['States'] == destination)]\n",
    "\n",
    "# Sort the filtered data by rating and price\n",
    "sorted_data = filtered_data.sort_values(by=['rating', 'price'], ascending=False)\n",
    "\n",
    "# Select the top recommendations based on the budget\n",
    "#top_recommendations = sorted_data[sorted_data['price'] <= budget].head(3)\n",
    "def recommend_place(place, data=filtered_data):\n",
    "  if tourist_data[tourist_data['States']== place].shape[0] == 0:\n",
    "    print('This placce is either not so popular or you\\have entered invalid_name.\\n Some songs you may like:\\n')\n",
    "\n",
    "    for place in data.sample(n=5)['States'].values:\n",
    "      print(place)\n",
    "    return\n",
    "\n",
    "  data['similarity_factor']= cosine_similarity(place, data)\n",
    "  \n",
    "  data.sort_values(by=['similarity_factor','rating'],ascending=[False, False],inplace=True)\n",
    "  display(data[['States']])\n",
    "\n",
    "recommend_place(place)\n",
    "# # Print the recommendations\n",
    "# print(\"Top 3 recommendations for your trip to \\\"\", destination, \"\\\" are:\")\n",
    "# price = 0\n",
    "# NoOfDays = 0\n",
    "# for index, row in top_recommendations.iterrows():\n",
    "#   price = price + row['price']\n",
    "#   NoOfDays = NoOfDays + row['duration']\n",
    "#   print(row['places'], \"- Rating:\", row['rating'], \"- Price:\",row['price'])\n",
    "\n",
    "# print(\"\\nThe tour will be of\", int(NoOfDays), \"days and it will cost around Rs.\",price,\".\")"
   ]
  }
 ],
 "metadata": {
  "kernelspec": {
   "display_name": "Python 3",
   "language": "python",
   "name": "python3"
  },
  "language_info": {
   "codemirror_mode": {
    "name": "ipython",
    "version": 3
   },
   "file_extension": ".py",
   "mimetype": "text/x-python",
   "name": "python",
   "nbconvert_exporter": "python",
   "pygments_lexer": "ipython3",
   "version": "3.10.7"
  },
  "orig_nbformat": 4
 },
 "nbformat": 4,
 "nbformat_minor": 2
}
